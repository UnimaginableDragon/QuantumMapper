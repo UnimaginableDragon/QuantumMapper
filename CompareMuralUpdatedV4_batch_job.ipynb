{
 "cells": [
  {
   "cell_type": "code",
   "execution_count": 3,
   "metadata": {},
   "outputs": [],
   "source": [
    "from qiskit import *\n",
    "import subprocess\n",
    "from qiskit.tools.monitor import job_monitor\n",
    "import numpy as np\n",
    "\n"
   ]
  },
  {
   "cell_type": "code",
   "execution_count": null,
   "metadata": {},
   "outputs": [],
   "source": [
    "IBMQ.load_account()\n",
    "IBMQ.providers()"
   ]
  },
  {
   "cell_type": "code",
   "execution_count": 14,
   "metadata": {},
   "outputs": [
    {
     "name": "stdout",
     "output_type": "stream",
     "text": [
      "[<IBMQSimulator('ibmq_qasm_simulator') from IBMQ(hub='ibm-q', group='open', project='main')>, <IBMQBackend('ibmqx2') from IBMQ(hub='ibm-q', group='open', project='main')>, <IBMQBackend('ibmq_16_melbourne') from IBMQ(hub='ibm-q', group='open', project='main')>, <IBMQBackend('ibmq_vigo') from IBMQ(hub='ibm-q', group='open', project='main')>, <IBMQBackend('ibmq_ourense') from IBMQ(hub='ibm-q', group='open', project='main')>, <IBMQBackend('ibmq_london') from IBMQ(hub='ibm-q', group='open', project='main')>, <IBMQBackend('ibmq_burlington') from IBMQ(hub='ibm-q', group='open', project='main')>, <IBMQBackend('ibmq_essex') from IBMQ(hub='ibm-q', group='open', project='main')>, <IBMQBackend('ibmq_armonk') from IBMQ(hub='ibm-q', group='open', project='main')>, <IBMQBackend('ibmq_athens') from IBMQ(hub='ibm-q', group='open', project='main')>, <IBMQBackend('ibmq_rome') from IBMQ(hub='ibm-q', group='open', project='main')>]\n"
     ]
    }
   ],
   "source": [
    "provider = IBMQ.get_provider(group='open')\n",
    "print(provider.backends())\n",
    "# backend = provider.get_backend('ibmq_16_melbourne')\n",
    "sim_backend=provider.get_backend('ibmq_qasm_simulator')\n",
    "backend=sim_backend\n",
    "total_qubits=backend.configuration().num_qubits"
   ]
  },
  {
   "cell_type": "code",
   "execution_count": null,
   "metadata": {},
   "outputs": [],
   "source": []
  },
  {
   "cell_type": "code",
   "execution_count": 15,
   "metadata": {},
   "outputs": [],
   "source": [
    "import  math\n",
    "from qiskit.tools.visualization import plot_histogram\n",
    "\n",
    "\n",
    "def showResults(counts, nbit, bitArr):\n",
    "\n",
    "    res_map = getResMap(counts, nbit, bitArr)\n",
    "    plot_histogram(res_map)\n",
    "\n",
    "\n",
    "\n",
    "\n",
    "def getResMap(counts, nbit, bitArr):\n",
    "    res_map = {}\n",
    "    totalSize = 1 << nbit;\n",
    "    # print(\"total map size:\", totalSize)\n",
    "    for i in range(0, totalSize):\n",
    "        str = \"\"\n",
    "        for j in range(0, nbit):\n",
    "            if (((i >> j) & 1) == 0):\n",
    "                str = '0' + str\n",
    "            else:\n",
    "                str = '1' + str\n",
    "        res_map[str] = 0\n",
    "\n",
    "    for str in counts:\n",
    "        m = str[::-1]\n",
    "        s = \"\"\n",
    "        for i in bitArr:\n",
    "            s = s + m[i]\n",
    "\n",
    "        res_map[s] = res_map[s] + counts[str]\n",
    "\n",
    "    return res_map\n",
    "\n",
    "\n",
    "def getPerformanceMeasure(counts, nbit, bitArr, expectedPattern):  # assumption : only single expected pattern. i.e\n",
    "    res_map = getResMap(counts, nbit, bitArr)  # no superpositional output\n",
    "\n",
    "   \n",
    "    # if (res_map[expectedPattern] < secondBest):\n",
    "    #     return 0\n",
    "    # return res_map[expectedPattern]-secondBest\n",
    "    return res_map[expectedPattern]\n",
    "\n",
    "def getExpectedPattern(counts, nbit, bitArr):  # assumption : only single expected pattern. i.e\n",
    "    res_map = getResMap(counts, nbit, bitArr)  # no superpositional output\n",
    "\n",
    "    BestVal = -1;\n",
    "    BestPattern=''\n",
    "    for s in res_map:\n",
    "        if ( res_map[s] > BestVal):\n",
    "            BestVal = res_map[s]\n",
    "            BestPattern = s ;\n",
    "    # if (res_map[expectedPattern] < secondBest):\n",
    "    #     return 0\n",
    "    # return res_map[expectedPattern]-secondBest\n",
    "    return BestPattern;\n",
    "\n",
    "\n",
    "\n"
   ]
  },
  {
   "cell_type": "code",
   "execution_count": 7,
   "metadata": {},
   "outputs": [],
   "source": [
    "def run_sub_process(ckt_name,p_id,config):\n",
    "    p = subprocess.run('mapper_'+str(p_id)+'m.exe '+config+' '+str(ckt_name)+' out_'+str(p_id)\n",
    "                       +'.qasm layout_'+str(p_id)+'.txt')\n",
    "    # print(p)\n",
    "    return p.returncode\n",
    "\n",
    "def get_a_maped_qasm(ckt_name,p_id,config):\n",
    "    # print(qasm)\n",
    "    # in_qasm=open('input'+str(ckt_num)+'.qasm','w')\n",
    "    # in_qasm.write(qasm)\n",
    "    # in_qasm.close()\n",
    "\n",
    "    while(run_sub_process(ckt_name,p_id,config)==1):\n",
    "        print(p_id,config)\n",
    "        print(\"Try runing again\")\n",
    "\n",
    "    # out_qasm=open('out.qasm','r')\n",
    "\n",
    "    # qasm=\"\"\n",
    "    # for line in out_qasm:\n",
    "    #     qasm+=line\n",
    "    #\n",
    "    # out_qasm.close()\n",
    "    layout={}\n",
    "    time=0.0\n",
    "    for line in open('layout_'+p_id+'.txt','r'):\n",
    "        splits=line.split()\n",
    "        if(len(splits)>1):\n",
    "            q1,q2=splits\n",
    "            q1=int(q1)\n",
    "            q2=int(q2)\n",
    "            layout[q1]=q2\n",
    "        elif(len(splits)==1):\n",
    "            time=splits[0]\n",
    "\n",
    "    return layout,time\n",
    "\n",
    "\n"
   ]
  },
  {
   "cell_type": "code",
   "execution_count": 13,
   "metadata": {},
   "outputs": [],
   "source": [
    "def is_valid_mapping(qc,prev_qc,nQBit,qBitArr,qBitArr_2):\n",
    "    simResult = execute(qc, backend=sim_backend, shots=2).result() \n",
    "    simResult_ex_map = execute(prev_qc, backend=sim_backend, shots=2).result()\n",
    "\n",
    "            \n",
    "\n",
    "    expectedPattern_ex_map=getExpectedPattern(simResult_ex_map.get_counts(prev_qc),nQBit,qBitArr)\n",
    "    expectedPattern=getExpectedPattern(simResult.get_counts(qc),nQBit,qBitArr_2)\n",
    "    if(expectedPattern!=expectedPattern_ex_map):\n",
    "        print('Mapping Error')\n",
    "        return False\n",
    "    else:\n",
    "        return True"
   ]
  },
  {
   "cell_type": "code",
   "execution_count": 16,
   "metadata": {},
   "outputs": [],
   "source": [
    "def extract_result(result,qc,qBitArr_2,nQBit,p_id,f_out,ckt_name,time):\n",
    "    counts=result.get_counts(qc)\n",
    "\n",
    "    print(counts)\n",
    "#     showResults(counts,nQBit,qBitArr_2)\n",
    "            \n",
    "    qbits = ''\n",
    "\n",
    "    for i in range(len(qBitArr_2)):\n",
    "        if(i!=len(qBitArr_2)-1):\n",
    "            qbits = qbits + str(qBitArr_2[i]) + ':'\n",
    "        else :\n",
    "            qbits += str(qBitArr_2[i])\n",
    "            # print('8')\n",
    "\n",
    "    expectedResult = getPerformanceMeasure(counts,nQBit,qBitArr_2,expectedPattern)\n",
    "            \n",
    "    f=open(f_out,'a')\n",
    "    output=str(ckt_name)+' '+p_id+' '+str(time)+\\\n",
    "    ' '+qbits+' '+expectedPattern_ex_map+' '+expectedPattern+' '+str(expectedResult)+\\\n",
    "                       +' '+str(shots)+' '+ time+'\\n'\n",
    "    f.write(output)\n",
    "            # print('11')\n",
    "    print(output,'\\n')\n",
    "\n",
    "    f.close()\n",
    "\n"
   ]
  },
  {
   "cell_type": "code",
   "execution_count": 10,
   "metadata": {},
   "outputs": [],
   "source": [
    "def retrieve_result(job,f_out,qc,qBitArr_2,qBitArr,nQBit,p_id,ckt_name,time):\n",
    "        \n",
    "    extract_result(job,qc,qBitArr,qBitArr_2,nQBit,p_id,f_out,ckt_name,time)\n"
   ]
  },
  {
   "cell_type": "code",
   "execution_count": null,
   "metadata": {},
   "outputs": [],
   "source": []
  },
  {
   "cell_type": "code",
   "execution_count": null,
   "metadata": {},
   "outputs": [],
   "source": []
  },
  {
   "cell_type": "code",
   "execution_count": null,
   "metadata": {},
   "outputs": [],
   "source": []
  },
  {
   "cell_type": "code",
   "execution_count": 11,
   "metadata": {},
   "outputs": [],
   "source": [
    "def monitor(job_file_name):\n",
    "    job_file=open(job_file_name,'r')\n",
    "    for line in job_file:\n",
    "        print(line)\n",
    "        line=line.split()\n",
    "        \n",
    "        print('p_id: ' + line[0]+'  '+'ckt name: '+line[1]+'\\n')\n",
    "        job_monitor(backend.retrieve_job(line[2]))\n",
    "    job_file.close()\n",
    "            \n"
   ]
  },
  {
   "cell_type": "code",
   "execution_count": 17,
   "metadata": {},
   "outputs": [],
   "source": [
    "class QC:\n",
    "    def __init__(self, qc_name , nQBit,  qBitArr_2, p_id, ckt_name, time):\n",
    "        self.qc = qc \n",
    "        self.qBitArr_2 = qBitArr_2\n",
    "        self.nQBit = nQBit \n",
    "        self.p_id = p_id\n",
    "        self.ckt_name = ckt_name \n",
    "        self.time = time"
   ]
  },
  {
   "cell_type": "code",
   "execution_count": null,
   "metadata": {},
   "outputs": [],
   "source": [
    "def get_a_mapped_circuit(nQBit,qBitArr,ckt_name,p_id):\n",
    "    config=\"config_m.txt\"\n",
    "    print(\"running mapper # \"+str(p_id))\n",
    "    prev_qc=QuantumCircuit().from_qasm_file(ckt_name)\n",
    "    prev_qc.barrier(range(prev_qc.num_qubits))\n",
    "    prev_qc.measure(range(prev_qc.num_qubits),range(prev_qc.num_qubits))\n",
    "    layout, time= get_a_maped_qasm(ckt_name,p_id,config)\n",
    "    qBitArr_2 = []\n",
    "    for i in range(nQBit):\n",
    "        qBitArr_2.append(layout[qBitArr[i]])\n",
    "    print(qBitArr)\n",
    "    print(qBitArr_2)\n",
    "    \n",
    "    out_ckt_name = 'out_'+p_id+'.qasm'\n",
    "    qc=QuantumCircuit().from_qasm_file(out_ckt_name)\n",
    "    qc.barrier(range(qc.num_qubits))\n",
    "    qc.measure(range(qc.num_qubits),range(qc.num_qubits))\n",
    "    \n",
    "    if(not is_valid_mapping(qc,prev_qc,nQBit,qBitArr,qBitArr_2)):\n",
    "        print('Mappipng error')\n",
    "        return 'ERROR'\n",
    "    return qc, qBitArr_2, time \n",
    "    "
   ]
  },
  {
   "cell_type": "code",
   "execution_count": 43,
   "metadata": {},
   "outputs": [],
   "source": [
    "def run_map(nQBit,qBitArr,shots,job_file_name,fout,ckt_name,p_id):   \n",
    "    \n",
    "    qc,qBitArr_2, time = get_a_mapped_circuit(nQBit,qBitArr,ckt_name,p_id):\n",
    "    \n",
    "    job=execute(qc, backend=backend,shots=shots,optimization_level=0)\n",
    "    \n",
    "    job_monitor(job)\n",
    "    retrieve_result(job,job_file_name,fout,backend,qc,prev_qc,qBitArr_2,\n",
    "                qBitArr,nQBit,p_id,ckt_name,time)\n",
    "    \n",
    "    job_file=open(job_file_name,'a')\n",
    "    job_file.write(str(p_id)+' '+ckt_name+' '+str(job.job_id())+'\\n')\n",
    "    job_file.close()\n",
    "    print(job.job_id())\n",
    "    \n",
    "    \n",
    "    \n",
    "    "
   ]
  },
  {
   "cell_type": "code",
   "execution_count": null,
   "metadata": {},
   "outputs": [],
   "source": [
    "def generate_all_circuits(ckt_map):\n",
    "    \n",
    "    "
   ]
  },
  {
   "cell_type": "code",
   "execution_count": null,
   "metadata": {},
   "outputs": [],
   "source": []
  },
  {
   "cell_type": "code",
   "execution_count": null,
   "metadata": {},
   "outputs": [
    {
     "name": "stdout",
     "output_type": "stream",
     "text": [
      "give the circuit to execute: Adder\n",
      "give job file name: t\n",
      "give output file name: t\n",
      "give p_id: 1\n",
      "running mapper # 1\n",
      "range(0, 4)\n",
      "[10, 11, 3, 4]\n",
      "Job Status: job is queued (18)     "
     ]
    }
   ],
   "source": [
    "import datetime as dt\n",
    "np.random.seed(77777)\n",
    "ckt_map={'Adder':4,\n",
    "         'BV4'  :4,\n",
    "         'BV4_1111':4,\n",
    "         'BV6':6,\n",
    "         'BV6_111111':6 ,\n",
    "         'BV8': 8,\n",
    "         'Fredkin' :3,\n",
    "         'HS2' : 2,\n",
    "         'HS4' : 4,\n",
    "         'HS6' : 6,\n",
    "         'Or'  : 3,\n",
    "         'Peres': 3,\n",
    "         'Shor' :4,\n",
    "         'Toffoli':3 \n",
    "        }\n",
    "\n",
    "name= input(\"give the circuit to execute: \")\n",
    "if(name=='n'):\n",
    "    name='Adder'\n",
    "ckt_name=name+'.qasm'\n",
    "nQBit=ckt_map[name]\n",
    "qBitArr=range(nQBit)\n",
    "shots=8192\n",
    "job_file_name=input(\"give job file name: \")\n",
    "if(job_file_name=='n'):\n",
    "    job_file_name= 'job_file_n.txt'\n",
    "elif(job_file_name=='t'):\n",
    "    job_file_name = 'job_'+str(dt.date.today())+'.txt'\n",
    "fout   = input(\"give output file name: \")\n",
    "if(fout=='n'):\n",
    "    fout= 'out_file_n.txt'\n",
    "elif(fout=='t'):\n",
    "    fout='out_'+str(dt.date.today())+'.txt'\n",
    "    \n",
    "\n",
    "p_id=(input(\"give p_id: \"))\n",
    "\n",
    "\n",
    "run_map(nQBit=nQBit,qBitArr=qBitArr,shots=shots,job_file_name=job_file_name,fout=fout,\n",
    "                                ckt_name=ckt_name,p_id=str(p_id))\n",
    "# monitor_job(job)\n",
    "\n",
    "\n",
    "\n",
    "\n"
   ]
  },
  {
   "cell_type": "code",
   "execution_count": 27,
   "metadata": {},
   "outputs": [
    {
     "name": "stdout",
     "output_type": "stream",
     "text": [
      "1 Adder.qasm 5eb29c250e4b7c0011a3ed1d\n",
      "\n",
      "p_id: 1  ckt name: Adder.qasm\n",
      "\n",
      "Job Status: job has successfully run\n",
      "1 Adder.qasm 5eb2a4aec165ac00126d652b\n",
      "\n",
      "p_id: 1  ckt name: Adder.qasm\n",
      "\n",
      "Job Status: job has successfully run\n",
      "1 Adder.qasm 5eb2a4ffe1699a0011a72b67\n",
      "\n",
      "p_id: 1  ckt name: Adder.qasm\n",
      "\n",
      "Job Status: job has successfully run\n",
      "1 Adder.qasm 5eb2bdc383a996001122a3aa\n",
      "\n",
      "p_id: 1  ckt name: Adder.qasm\n",
      "\n",
      "Job Status: job has successfully run\n",
      "1 Adder.qasm 5eb2be020e4b7c0011a3eee1\n",
      "\n",
      "p_id: 1  ckt name: Adder.qasm\n",
      "\n",
      "Job Status: job has successfully run\n"
     ]
    }
   ],
   "source": [
    "monitor(job_file_name)"
   ]
  },
  {
   "cell_type": "code",
   "execution_count": 30,
   "metadata": {},
   "outputs": [
    {
     "name": "stdout",
     "output_type": "stream",
     "text": [
      "p_id: 1 ckt_name: Adder.qasm\n",
      "1 Adder.qasm 5eb29c250e4b7c0011a3ed1d\n",
      "\n",
      "1\n",
      "Adder.qasm\n",
      "5eb29c250e4b7c0011a3ed1d\n"
     ]
    },
    {
     "ename": "QiskitError",
     "evalue": "'Data for experiment \"circuit8\" could not be found.'",
     "output_type": "error",
     "traceback": [
      "\u001b[1;31m---------------------------------------------------------------------------\u001b[0m",
      "\u001b[1;31mStopIteration\u001b[0m                             Traceback (most recent call last)",
      "\u001b[1;32m~\\anaconda3\\lib\\site-packages\\qiskit\\result\\result.py\u001b[0m in \u001b[0;36m_get_experiment\u001b[1;34m(self, key)\u001b[0m\n\u001b[0;32m    277\u001b[0m                 \u001b[1;31m# Look into `result[x].header.name` for the names.\u001b[0m\u001b[1;33m\u001b[0m\u001b[1;33m\u001b[0m\u001b[1;33m\u001b[0m\u001b[0m\n\u001b[1;32m--> 278\u001b[1;33m                 exp = next(result for result in self.results\n\u001b[0m\u001b[0;32m    279\u001b[0m                            if getattr(getattr(result, 'header', None),\n",
      "\u001b[1;31mStopIteration\u001b[0m: ",
      "\nDuring handling of the above exception, another exception occurred:\n",
      "\u001b[1;31mQiskitError\u001b[0m                               Traceback (most recent call last)",
      "\u001b[1;32m<ipython-input-30-44e444c550be>\u001b[0m in \u001b[0;36m<module>\u001b[1;34m\u001b[0m\n\u001b[1;32m----> 1\u001b[1;33m \u001b[0mretrieve_result\u001b[0m\u001b[1;33m(\u001b[0m\u001b[0mjob_file_name\u001b[0m\u001b[1;33m,\u001b[0m\u001b[0mfout\u001b[0m\u001b[1;33m,\u001b[0m\u001b[0mbackend\u001b[0m\u001b[1;33m,\u001b[0m\u001b[0mqc\u001b[0m\u001b[1;33m,\u001b[0m\u001b[0mprev_qc\u001b[0m\u001b[1;33m,\u001b[0m\u001b[0mqBitArr_2\u001b[0m\u001b[1;33m,\u001b[0m\u001b[0mqBitArr\u001b[0m\u001b[1;33m,\u001b[0m\u001b[0mnQBit\u001b[0m\u001b[1;33m,\u001b[0m\u001b[0mp_id\u001b[0m\u001b[1;33m,\u001b[0m\u001b[0mckt_name\u001b[0m\u001b[1;33m,\u001b[0m\u001b[0mtime\u001b[0m\u001b[1;33m)\u001b[0m\u001b[1;33m\u001b[0m\u001b[1;33m\u001b[0m\u001b[0m\n\u001b[0m",
      "\u001b[1;32m<ipython-input-23-fb78d4969c14>\u001b[0m in \u001b[0;36mretrieve_result\u001b[1;34m(job_file_name, f_out, backend, qc, prev_qc, qBitArr_2, qBitArr, nQBit, p_id, ckt_name, time)\u001b[0m\n\u001b[0;32m     13\u001b[0m     \u001b[0mjob_file\u001b[0m\u001b[1;33m.\u001b[0m\u001b[0mclose\u001b[0m\u001b[1;33m(\u001b[0m\u001b[1;33m)\u001b[0m\u001b[1;33m\u001b[0m\u001b[1;33m\u001b[0m\u001b[0m\n\u001b[0;32m     14\u001b[0m     \u001b[0mretrieved_job\u001b[0m \u001b[1;33m=\u001b[0m \u001b[0mbackend\u001b[0m\u001b[1;33m.\u001b[0m\u001b[0mretrieve_job\u001b[0m\u001b[1;33m(\u001b[0m\u001b[0mjob_id\u001b[0m\u001b[1;33m)\u001b[0m\u001b[1;33m\u001b[0m\u001b[1;33m\u001b[0m\u001b[0m\n\u001b[1;32m---> 15\u001b[1;33m     \u001b[0mcounts\u001b[0m\u001b[1;33m=\u001b[0m\u001b[0mretrieved_job\u001b[0m\u001b[1;33m.\u001b[0m\u001b[0mresult\u001b[0m\u001b[1;33m(\u001b[0m\u001b[1;33m)\u001b[0m\u001b[1;33m.\u001b[0m\u001b[0mget_counts\u001b[0m\u001b[1;33m(\u001b[0m\u001b[0mqc\u001b[0m\u001b[1;33m)\u001b[0m\u001b[1;33m\u001b[0m\u001b[1;33m\u001b[0m\u001b[0m\n\u001b[0m\u001b[0;32m     16\u001b[0m \u001b[1;33m\u001b[0m\u001b[0m\n\u001b[0;32m     17\u001b[0m     \u001b[0mprint\u001b[0m\u001b[1;33m(\u001b[0m\u001b[0mcounts\u001b[0m\u001b[1;33m)\u001b[0m\u001b[1;33m\u001b[0m\u001b[1;33m\u001b[0m\u001b[0m\n",
      "\u001b[1;32m~\\anaconda3\\lib\\site-packages\\qiskit\\result\\result.py\u001b[0m in \u001b[0;36mget_counts\u001b[1;34m(self, experiment)\u001b[0m\n\u001b[0;32m    182\u001b[0m         \u001b[0mdict_list\u001b[0m \u001b[1;33m=\u001b[0m \u001b[1;33m[\u001b[0m\u001b[1;33m]\u001b[0m\u001b[1;33m\u001b[0m\u001b[1;33m\u001b[0m\u001b[0m\n\u001b[0;32m    183\u001b[0m         \u001b[1;32mfor\u001b[0m \u001b[0mkey\u001b[0m \u001b[1;32min\u001b[0m \u001b[0mexp_keys\u001b[0m\u001b[1;33m:\u001b[0m\u001b[1;33m\u001b[0m\u001b[1;33m\u001b[0m\u001b[0m\n\u001b[1;32m--> 184\u001b[1;33m             \u001b[0mexp\u001b[0m \u001b[1;33m=\u001b[0m \u001b[0mself\u001b[0m\u001b[1;33m.\u001b[0m\u001b[0m_get_experiment\u001b[0m\u001b[1;33m(\u001b[0m\u001b[0mkey\u001b[0m\u001b[1;33m)\u001b[0m\u001b[1;33m\u001b[0m\u001b[1;33m\u001b[0m\u001b[0m\n\u001b[0m\u001b[0;32m    185\u001b[0m             \u001b[1;32mtry\u001b[0m\u001b[1;33m:\u001b[0m\u001b[1;33m\u001b[0m\u001b[1;33m\u001b[0m\u001b[0m\n\u001b[0;32m    186\u001b[0m                 \u001b[0mheader\u001b[0m \u001b[1;33m=\u001b[0m \u001b[0mexp\u001b[0m\u001b[1;33m.\u001b[0m\u001b[0mheader\u001b[0m\u001b[1;33m.\u001b[0m\u001b[0mto_dict\u001b[0m\u001b[1;33m(\u001b[0m\u001b[1;33m)\u001b[0m\u001b[1;33m\u001b[0m\u001b[1;33m\u001b[0m\u001b[0m\n",
      "\u001b[1;32m~\\anaconda3\\lib\\site-packages\\qiskit\\result\\result.py\u001b[0m in \u001b[0;36m_get_experiment\u001b[1;34m(self, key)\u001b[0m\n\u001b[0;32m    281\u001b[0m             \u001b[1;32mexcept\u001b[0m \u001b[0mStopIteration\u001b[0m\u001b[1;33m:\u001b[0m\u001b[1;33m\u001b[0m\u001b[1;33m\u001b[0m\u001b[0m\n\u001b[0;32m    282\u001b[0m                 raise QiskitError('Data for experiment \"%s\" could not be found.' %\n\u001b[1;32m--> 283\u001b[1;33m                                   key)\n\u001b[0m\u001b[0;32m    284\u001b[0m \u001b[1;33m\u001b[0m\u001b[0m\n\u001b[0;32m    285\u001b[0m         \u001b[1;31m# Check that the retrieved experiment was successful\u001b[0m\u001b[1;33m\u001b[0m\u001b[1;33m\u001b[0m\u001b[1;33m\u001b[0m\u001b[0m\n",
      "\u001b[1;31mQiskitError\u001b[0m: 'Data for experiment \"circuit8\" could not be found.'"
     ]
    }
   ],
   "source": [
    "retrieve_result(None,job_file_name,fout,backend,qc,prev_qc,qBitArr_2,qBitArr,nQBit,p_id,ckt_name,time)"
   ]
  },
  {
   "cell_type": "code",
   "execution_count": null,
   "metadata": {},
   "outputs": [],
   "source": []
  },
  {
   "cell_type": "code",
   "execution_count": null,
   "metadata": {},
   "outputs": [],
   "source": []
  },
  {
   "cell_type": "code",
   "execution_count": null,
   "metadata": {},
   "outputs": [],
   "source": []
  },
  {
   "cell_type": "code",
   "execution_count": null,
   "metadata": {},
   "outputs": [],
   "source": []
  },
  {
   "cell_type": "code",
   "execution_count": null,
   "metadata": {},
   "outputs": [],
   "source": []
  }
 ],
 "metadata": {
  "kernelspec": {
   "display_name": "Python 3",
   "language": "python",
   "name": "python3"
  },
  "language_info": {
   "codemirror_mode": {
    "name": "ipython",
    "version": 3
   },
   "file_extension": ".py",
   "mimetype": "text/x-python",
   "name": "python",
   "nbconvert_exporter": "python",
   "pygments_lexer": "ipython3",
   "version": "3.7.6"
  }
 },
 "nbformat": 4,
 "nbformat_minor": 4
}
