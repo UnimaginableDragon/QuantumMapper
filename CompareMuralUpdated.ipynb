{
 "cells": [
  {
   "cell_type": "code",
   "execution_count": 5,
   "metadata": {},
   "outputs": [],
   "source": [
    "from qiskit import *\n",
    "import subprocess\n",
    "from qiskit.tools.monitor import job_monitor\n",
    "import numpy as np\n",
    "\n"
   ]
  },
  {
   "cell_type": "code",
   "execution_count": 6,
   "metadata": {},
   "outputs": [
    {
     "name": "stderr",
     "output_type": "stream",
     "text": [
      "ibmqfactory.load_account:WARNING:2020-05-06 19:36:52,084: Credentials are already in use. The existing account in the session will be replaced.\n"
     ]
    }
   ],
   "source": [
    "IBMQ.load_account()\n",
    "IBMQ.providers()\n",
    "provider = IBMQ.get_provider(group='open')\n",
    "provider.backends()\n",
    "backend = provider.get_backend('ibmq_16_melbourne')\n",
    "total_qubits=backend.configuration().num_qubits"
   ]
  },
  {
   "cell_type": "code",
   "execution_count": null,
   "metadata": {},
   "outputs": [],
   "source": []
  },
  {
   "cell_type": "code",
   "execution_count": 7,
   "metadata": {},
   "outputs": [],
   "source": [
    "import  math\n",
    "from qiskit.tools.visualization import plot_histogram\n",
    "\n",
    "\n",
    "def showResults(counts, nbit, bitArr):\n",
    "\n",
    "    res_map = getResMap(counts, nbit, bitArr)\n",
    "    plot_histogram(res_map)\n",
    "\n",
    "\n",
    "\n",
    "\n",
    "def getResMap(counts, nbit, bitArr):\n",
    "    res_map = {}\n",
    "    totalSize = 1 << nbit;\n",
    "    # print(\"total map size:\", totalSize)\n",
    "    for i in range(0, totalSize):\n",
    "        str = \"\"\n",
    "        for j in range(0, nbit):\n",
    "            if (((i >> j) & 1) == 0):\n",
    "                str = '0' + str\n",
    "            else:\n",
    "                str = '1' + str\n",
    "        res_map[str] = 0\n",
    "\n",
    "    for str in counts:\n",
    "        m = str[::-1]\n",
    "        s = \"\"\n",
    "        for i in bitArr:\n",
    "            s = s + m[i]\n",
    "\n",
    "        res_map[s] = res_map[s] + counts[str]\n",
    "\n",
    "    return res_map\n",
    "\n",
    "\n",
    "def getPerformanceMeasure(counts, nbit, bitArr, expectedPattern):  # assumption : only single expected pattern. i.e\n",
    "    res_map = getResMap(counts, nbit, bitArr)  # no superpositional output\n",
    "\n",
    "    secondBest = 0\n",
    "    for s in res_map:\n",
    "        if (s != expectedPattern and res_map[s] > secondBest):\n",
    "            secondBest = res_map[s]\n",
    "    # if (res_map[expectedPattern] < secondBest):\n",
    "    #     return 0\n",
    "    # return res_map[expectedPattern]-secondBest\n",
    "    return res_map[expectedPattern],secondBest;\n",
    "\n",
    "def getExpectedPattern(counts, nbit, bitArr):  # assumption : only single expected pattern. i.e\n",
    "    res_map = getResMap(counts, nbit, bitArr)  # no superpositional output\n",
    "\n",
    "    BestVal = -1;\n",
    "    BestPattern=''\n",
    "    for s in res_map:\n",
    "        if ( res_map[s] > BestVal):\n",
    "            BestVal = res_map[s]\n",
    "            BestPattern = s ;\n",
    "    # if (res_map[expectedPattern] < secondBest):\n",
    "    #     return 0\n",
    "    # return res_map[expectedPattern]-secondBest\n",
    "    return BestPattern;\n",
    "\n",
    "\n",
    "\n"
   ]
  },
  {
   "cell_type": "code",
   "execution_count": 8,
   "metadata": {},
   "outputs": [],
   "source": [
    "def run_sub_process(ckt_name,p_id,config):\n",
    "    p = subprocess.run('mapper_'+str(p_id)+'m.exe '+config+' '+str(ckt_name)+' out_'+str(p_id)\n",
    "                       +'.qasm layout_'+str(p_id)+'.txt')\n",
    "    # print(p)\n",
    "    return p.returncode\n",
    "\n",
    "def get_a_maped_qasm(ckt_name,p_id,config):\n",
    "    # print(qasm)\n",
    "    # in_qasm=open('input'+str(ckt_num)+'.qasm','w')\n",
    "    # in_qasm.write(qasm)\n",
    "    # in_qasm.close()\n",
    "\n",
    "    while(run_sub_process(ckt_name,p_id,config)==1):\n",
    "        print(p_id,config)\n",
    "        print(\"Try runing again\")\n",
    "\n",
    "    # out_qasm=open('out.qasm','r')\n",
    "\n",
    "    # qasm=\"\"\n",
    "    # for line in out_qasm:\n",
    "    #     qasm+=line\n",
    "    #\n",
    "    # out_qasm.close()\n",
    "    layout={}\n",
    "    time=0.0\n",
    "    for line in open('layout_'+p_id+'.txt','r'):\n",
    "        splits=line.split()\n",
    "        if(len(splits)>1):\n",
    "            q1,q2=splits\n",
    "            q1=int(q1)\n",
    "            q2=int(q2)\n",
    "            layout[q1]=q2\n",
    "        elif(len(splits)==1):\n",
    "            time=splits[0]\n",
    "\n",
    "    return layout,time\n",
    "\n",
    "\n"
   ]
  },
  {
   "cell_type": "code",
   "execution_count": null,
   "metadata": {},
   "outputs": [],
   "source": []
  },
  {
   "cell_type": "code",
   "execution_count": 9,
   "metadata": {},
   "outputs": [],
   "source": [
    "def run_map(qr,cr,nQBit,qBitArr,shots,job_file_name,ckt_name,p_id):      \n",
    "    config=\"config_m.txt\"\n",
    "    print(\"running mapper # \"+str(p_id))\n",
    "    prev_qc=QuantumCircuit().from_qasm_file(ckt_name)\n",
    "    prev_qc.barrier(range(prev_qc.num_qubits))\n",
    "    prev_qc.measure(range(prev_qc.num_qubits),range(prev_qc.num_qubits))\n",
    "    layout, time= get_a_maped_qasm(ckt_name,p_id,config)\n",
    "    qBitArr_2 = []\n",
    "    for i in range(nQBit):\n",
    "        qBitArr_2.append(layout[qBitArr[i]])\n",
    "    print(qBitArr)\n",
    "    print(qBitArr_2)\n",
    "    \n",
    "    out_ckt_name = 'out_'+p_id+'.qasm'\n",
    "    qc=QuantumCircuit().from_qasm_file(out_ckt_name)\n",
    "    qc.barrier(range(qc.num_qubits))\n",
    "    qc.measure(range(qc.num_qubits),range(qc.num_qubits))\n",
    "    job=execute(qc, backend=backend,shots=shots)\n",
    "    job_file=open(job_file_name,'a')\n",
    "    job_file.write(str(p_id)+' '+ckt_name+' '+str(job.job_id())+'\\n')\n",
    "    job_file.close()\n",
    "    print(job.job_id())\n",
    "    \n",
    "    return qc, prev_qc, qBitArr_2, time\n",
    "    \n",
    "    "
   ]
  },
  {
   "cell_type": "code",
   "execution_count": null,
   "metadata": {},
   "outputs": [],
   "source": []
  },
  {
   "cell_type": "code",
   "execution_count": null,
   "metadata": {},
   "outputs": [],
   "source": []
  },
  {
   "cell_type": "code",
   "execution_count": null,
   "metadata": {},
   "outputs": [],
   "source": []
  },
  {
   "cell_type": "code",
   "execution_count": 26,
   "metadata": {},
   "outputs": [],
   "source": [
    "def monitor(job_file_name):\n",
    "    job_file=open(job_file_name,'r')\n",
    "    for line in job_file:\n",
    "        print(line)\n",
    "        line=line.split()\n",
    "        \n",
    "        print('p_id: ' + line[0]+'  '+'ckt name: '+line[1]+'\\n')\n",
    "        job_monitor(backend.retrieve_job(line[2]))\n",
    "    job_file.close()\n",
    "            \n"
   ]
  },
  {
   "cell_type": "code",
   "execution_count": 23,
   "metadata": {},
   "outputs": [],
   "source": [
    "def retrieve_result(job_file_name,f_out,backend,qc,prev_qc,qBitArr_2,qBitArr,nQBit,p_id,ckt_name,time):\n",
    "    job_file=open(job_file_name,'r')\n",
    "    print('p_id: '+p_id+' ckt_name: '+ckt_name)\n",
    "    for line in job_file:\n",
    "        print(line)\n",
    "        line=line.split()\n",
    "        print(line[0])\n",
    "        print(line[1])\n",
    "        if((line[0])==(p_id) and line[1]==ckt_name):\n",
    "            print(line[2])\n",
    "            job_id=line[2]\n",
    "            break\n",
    "    job_file.close()    \n",
    "    retrieved_job = backend.retrieve_job(job_id)\n",
    "    counts=retrieved_job.result().get_counts(qc)\n",
    "\n",
    "    print(counts)\n",
    "    showResults(counts,nQBit,qBitArr_2)\n",
    "            \n",
    "    qbits = ''\n",
    "\n",
    "    for i in range(len(qBitArr_2)):\n",
    "        if(i!=len(qBitArr_2)-1):\n",
    "            qbits = qbits + str(qBitArr_2[i]) + ':'\n",
    "        else :\n",
    "            qbits += str(qBitArr_2[i])\n",
    "            # print('8')\n",
    "    \n",
    "    simResult = execute(qc, backend='local_qasm_simulator', shots=2).result() \n",
    "    simResult_ex_map = execute(prev_qc, backend='local_qasm_simulator', shots=2).result()\n",
    "\n",
    "            \n",
    "\n",
    "    expectedPattern_ex_map=getExpectedPattern(simResult_ex_map.get_counts(prev_qc),nQBit,qBitArr)\n",
    "    expectedPattern=getExpectedPattern(simResult.get_counts(qc),nQBit,qBitArr_2)\n",
    "    if(expectedPattern!=expectedPattern_ex_map):\n",
    "        print('Mapping Error')\n",
    "        exit(1)\n",
    "        raise  Exception\n",
    "    else:\n",
    "        print('Mapping Okay')\n",
    "\n",
    "    expectedResult, secondBest = getPerformanceMeasure(counts,nQBit,qBitArr_2,expectedPattern)\n",
    "            \n",
    "    f=open(f_out,'a')\n",
    "    output=str(ckt_name)+' '+p_id+' '+str(time)+\\\n",
    "    ' '+qbits+' '+expectedPattern_ex_map+' '+expectedPattern+' '+str(expectedResult)+\\\n",
    "                       +' '+str(shots)+' '+ time+'\\n'\n",
    "    f.write(output)\n",
    "            # print('11')\n",
    "    print(output,'\\n')\n",
    "\n",
    "    f.close()\n",
    "\n",
    "\n"
   ]
  },
  {
   "cell_type": "code",
   "execution_count": null,
   "metadata": {},
   "outputs": [],
   "source": []
  },
  {
   "cell_type": "code",
   "execution_count": null,
   "metadata": {},
   "outputs": [],
   "source": []
  },
  {
   "cell_type": "code",
   "execution_count": null,
   "metadata": {},
   "outputs": [],
   "source": []
  },
  {
   "cell_type": "code",
   "execution_count": 16,
   "metadata": {},
   "outputs": [
    {
     "name": "stdout",
     "output_type": "stream",
     "text": [
      "give the circuit to execute: n\n",
      "give job file name: n\n",
      "give output file name: n\n",
      "give p_id: 1\n",
      "running mapper # 1\n",
      "range(0, 4)\n",
      "[10, 11, 3, 4]\n",
      "5eb2be020e4b7c0011a3eee1\n"
     ]
    }
   ],
   "source": [
    "np.random.seed(77777)\n",
    "ckt_map={'Adder':4,\n",
    "         'BV4'  :4,\n",
    "         'BV4_1111':4,\n",
    "         'BV6':6,\n",
    "         'BV6_111111':6 ,\n",
    "         'BV8': 8,\n",
    "         'Fredkin' :3,\n",
    "         'HS2' : 2,\n",
    "         'HS4' : 4,\n",
    "         'HS6' : 6,\n",
    "         'Or'  : 3,\n",
    "         'Peres': 3,\n",
    "         'Shor' :4,\n",
    "         'Toffoli':3 \n",
    "        }\n",
    "qr=QuantumRegister(total_qubits);\n",
    "cr=QuantumRegister(total_qubits);\n",
    "name= input(\"give the circuit to execute: \")\n",
    "if(name=='n'):\n",
    "    name='Adder'\n",
    "ckt_name=name+'.qasm'\n",
    "nQBit=ckt_map[name]\n",
    "qBitArr=range(nQBit)\n",
    "shots=8192\n",
    "job_file_name=input(\"give job file name: \")\n",
    "if(job_file_name=='n'):\n",
    "    job_file_name= 'job_file_n.txt'\n",
    "fout   = input(\"give output file name: \")\n",
    "if(fout=='n'):\n",
    "    fout= 'out_file_n.txt'\n",
    "    \n",
    "p_id=(input(\"give p_id: \"))\n",
    "\n",
    "\n",
    "qc, prev_qc, qBitArr_2, time = run_map(qr=qr,cr=cr,nQBit=nQBit,\n",
    "                               qBitArr=qBitArr,shots=shots,job_file_name=job_file_name\n",
    "                                ,ckt_name=ckt_name,p_id=str(p_id))\n",
    "\n"
   ]
  },
  {
   "cell_type": "code",
   "execution_count": 27,
   "metadata": {},
   "outputs": [
    {
     "name": "stdout",
     "output_type": "stream",
     "text": [
      "1 Adder.qasm 5eb29c250e4b7c0011a3ed1d\n",
      "\n",
      "p_id: 1  ckt name: Adder.qasm\n",
      "\n",
      "Job Status: job has successfully run\n",
      "1 Adder.qasm 5eb2a4aec165ac00126d652b\n",
      "\n",
      "p_id: 1  ckt name: Adder.qasm\n",
      "\n",
      "Job Status: job has successfully run\n",
      "1 Adder.qasm 5eb2a4ffe1699a0011a72b67\n",
      "\n",
      "p_id: 1  ckt name: Adder.qasm\n",
      "\n",
      "Job Status: job has successfully run\n",
      "1 Adder.qasm 5eb2bdc383a996001122a3aa\n",
      "\n",
      "p_id: 1  ckt name: Adder.qasm\n",
      "\n",
      "Job Status: job has successfully run\n",
      "1 Adder.qasm 5eb2be020e4b7c0011a3eee1\n",
      "\n",
      "p_id: 1  ckt name: Adder.qasm\n",
      "\n",
      "Job Status: job has successfully run\n"
     ]
    }
   ],
   "source": [
    "monitor(job_file_name)"
   ]
  },
  {
   "cell_type": "code",
   "execution_count": null,
   "metadata": {},
   "outputs": [
    {
     "name": "stdout",
     "output_type": "stream",
     "text": [
      "p_id: 1 ckt_name: Adder.qasm\n",
      "1 Adder.qasm 5eb29c250e4b7c0011a3ed1d\n",
      "\n",
      "1\n",
      "Adder.qasm\n",
      "5eb29c250e4b7c0011a3ed1d\n"
     ]
    }
   ],
   "source": [
    "retrieve_result(job_file_name,fout,backend,qc,prev_qc,qBitArr_2,qBitArr,nQBit,p_id,ckt_name,time)"
   ]
  },
  {
   "cell_type": "code",
   "execution_count": null,
   "metadata": {},
   "outputs": [],
   "source": []
  },
  {
   "cell_type": "code",
   "execution_count": null,
   "metadata": {},
   "outputs": [],
   "source": []
  },
  {
   "cell_type": "code",
   "execution_count": null,
   "metadata": {},
   "outputs": [],
   "source": []
  },
  {
   "cell_type": "code",
   "execution_count": null,
   "metadata": {},
   "outputs": [],
   "source": []
  },
  {
   "cell_type": "code",
   "execution_count": null,
   "metadata": {},
   "outputs": [],
   "source": []
  }
 ],
 "metadata": {
  "kernelspec": {
   "display_name": "Python 3",
   "language": "python",
   "name": "python3"
  },
  "language_info": {
   "codemirror_mode": {
    "name": "ipython",
    "version": 3
   },
   "file_extension": ".py",
   "mimetype": "text/x-python",
   "name": "python",
   "nbconvert_exporter": "python",
   "pygments_lexer": "ipython3",
   "version": "3.7.6"
  }
 },
 "nbformat": 4,
 "nbformat_minor": 4
}
