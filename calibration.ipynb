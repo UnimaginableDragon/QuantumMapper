{
 "cells": [
  {
   "cell_type": "code",
   "execution_count": 1,
   "metadata": {},
   "outputs": [
    {
     "data": {
      "text/plain": [
       "<AccountProvider for IBMQ(hub='ibm-q', group='open', project='main')>"
      ]
     },
     "execution_count": 1,
     "metadata": {},
     "output_type": "execute_result"
    }
   ],
   "source": [
    "from qiskit import *\n",
    "IBMQ.load_account()\n"
   ]
  },
  {
   "cell_type": "code",
   "execution_count": 2,
   "metadata": {},
   "outputs": [
    {
     "name": "stdout",
     "output_type": "stream",
     "text": [
      "ibmq_16_melbourne\n"
     ]
    }
   ],
   "source": [
    "provider = IBMQ.get_provider(group='open')\n",
    "backend = provider.get_backend('ibmq_16_melbourne')\n",
    "print(backend)"
   ]
  },
  {
   "cell_type": "code",
   "execution_count": 3,
   "metadata": {},
   "outputs": [
    {
     "name": "stdout",
     "output_type": "stream",
     "text": [
      "[GateConfig(coupling_map=[[0], [1], [2], [3], [4], [5], [6], [7], [8], [9], [10], [11], [12], [13], [14]], name='id', parameters=[], qasm_def='gate id q { U(0,0,0) q; }'), GateConfig(coupling_map=[[0], [1], [2], [3], [4], [5], [6], [7], [8], [9], [10], [11], [12], [13], [14]], name='u1', parameters=['lambda'], qasm_def='gate u1(lambda) q { U(0,0,lambda) q; }'), GateConfig(coupling_map=[[0], [1], [2], [3], [4], [5], [6], [7], [8], [9], [10], [11], [12], [13], [14]], name='u2', parameters=['phi', 'lambda'], qasm_def='gate u2(phi,lambda) q { U(pi/2,phi,lambda) q; }'), GateConfig(coupling_map=[[0], [1], [2], [3], [4], [5], [6], [7], [8], [9], [10], [11], [12], [13], [14]], name='u3', parameters=['theta', 'phi', 'lambda'], qasm_def='gate u3(theta,phi,lambda) q { U(theta,phi,lambda) q; }'), GateConfig(coupling_map=[[0, 1], [0, 14], [1, 0], [1, 2], [1, 13], [2, 1], [2, 3], [2, 12], [3, 2], [3, 4], [3, 11], [4, 3], [4, 5], [4, 10], [5, 4], [5, 6], [5, 9], [6, 5], [6, 8], [7, 8], [8, 6], [8, 7], [8, 9], [9, 5], [9, 8], [9, 10], [10, 4], [10, 9], [10, 11], [11, 3], [11, 10], [11, 12], [12, 2], [12, 11], [12, 13], [13, 1], [13, 12], [13, 14], [14, 0], [14, 13]], name='cx', parameters=[], qasm_def='gate cx q1,q2 { CX q1,q2; }')]\n",
      "8192\n"
     ]
    }
   ],
   "source": [
    "coupling_map=backend.configuration().coupling_map\n",
    "num_qubits = backend.configuration().num_qubits\n",
    "# print(coupling_map)\n",
    "# print(num_qubits)\n",
    "print(backend.configuration().gates)\n",
    "# print(backend.configuration().local)\n",
    "print(backend.configuration().max_shots)\n",
    "\n"
   ]
  },
  {
   "cell_type": "code",
   "execution_count": 4,
   "metadata": {},
   "outputs": [
    {
     "name": "stdout",
     "output_type": "stream",
     "text": [
      "{'gate_error': (0.0020615962165784207, datetime.datetime(2020, 5, 7, 7, 9, 21, tzinfo=datetime.timezone.utc)), 'gate_length': (1.0666666666666667e-07, datetime.datetime(2020, 5, 7, 10, 20, 21, tzinfo=datetime.timezone.utc))}\n",
      "{'gate_error': (0.0, datetime.datetime(2020, 5, 7, 7, 8, 17, tzinfo=datetime.timezone.utc)), 'gate_length': (0.0, datetime.datetime(2020, 5, 7, 10, 20, 21, tzinfo=datetime.timezone.utc))}\n",
      "{'gate_error': (0.0004937193995504997, datetime.datetime(2020, 5, 7, 7, 8, 17, tzinfo=datetime.timezone.utc)), 'gate_length': (5.3333333333333334e-08, datetime.datetime(2020, 5, 7, 10, 20, 21, tzinfo=datetime.timezone.utc))}\n"
     ]
    }
   ],
   "source": [
    "prop= backend.properties()\n",
    "print(prop.gate_property('u3',1))\n",
    "print(prop.gate_property('u1',0))\n",
    "print(prop.gate_property('u2',0))"
   ]
  },
  {
   "cell_type": "code",
   "execution_count": 5,
   "metadata": {},
   "outputs": [
    {
     "data": {
      "text/plain": [
       "0.02200000000000002"
      ]
     },
     "execution_count": 5,
     "metadata": {},
     "output_type": "execute_result"
    }
   ],
   "source": [
    "prop.readout_error(0)"
   ]
  },
  {
   "cell_type": "code",
   "execution_count": null,
   "metadata": {},
   "outputs": [],
   "source": []
  },
  {
   "cell_type": "code",
   "execution_count": 6,
   "metadata": {},
   "outputs": [
    {
     "name": "stdout",
     "output_type": "stream",
     "text": [
      "{0: [0.000987195040255462, 0.02200000000000002, 7.724907597312889e-05, 1.9764837477388232e-05], 1: [0.0020615962165784207, 0.0675, 4.060782684653006e-05, 9.642094522494786e-05], 2: [0.007472444160717462, 0.02950000000000008, 4.493190887740298e-05, 9.525091346010214e-05], 3: [0.0007666415091074352, 0.05249999999999999, 7.864972664344837e-05, 5.591363519661963e-05], 4: [0.0037706991624312236, 0.019500000000000073, 5.855484653145938e-05, 2.8100909500855012e-05], 5: [0.005648014624650033, 0.06000000000000005, 1.889027712723862e-05, 3.326681115506176e-05], 6: [0.0034845005029349174, 0.03249999999999997, 7.777587658981836e-05, 8.208297220375773e-05], 7: [0.00264938534495629, 0.03049999999999997, 3.967660518814423e-05, 7.45172053593821e-05], 8: [0.0018602875167497146, 0.2889999999999999, 3.5691299612243416e-05, 6.179083484675874e-05], 9: [0.0027969462254865407, 0.03600000000000003, 3.6389214530520376e-05, 6.310287134125579e-05], 10: [0.004700129885763182, 0.031000000000000028, 4.508591379019957e-05, 3.6406019365972954e-05], 11: [0.0031525732071964185, 0.04400000000000004, 4.446176531718629e-05, 5.8491459165919255e-05], 12: [0.0011352639964726796, 0.04249999999999998, 0.00012008705543728816, 6.294395335226577e-05], 13: [0.0039052323699648728, 0.10199999999999998, 2.8972751607050215e-05, 5.9076475179567374e-05], 14: [0.004574384650433805, 0.04800000000000004, 3.702425673135473e-05, 3.807670395346203e-05]}\n",
      "0 1\n",
      "0 14\n",
      "1 0\n",
      "1 2\n",
      "1 13\n",
      "2 1\n",
      "2 3\n",
      "2 12\n",
      "3 2\n",
      "3 4\n",
      "3 11\n",
      "4 3\n",
      "4 5\n",
      "4 10\n",
      "5 4\n",
      "5 6\n",
      "5 9\n",
      "6 5\n",
      "6 8\n",
      "7 8\n",
      "8 6\n",
      "8 7\n",
      "8 9\n",
      "9 5\n",
      "9 8\n",
      "9 10\n",
      "10 4\n",
      "10 9\n",
      "10 11\n",
      "11 3\n",
      "11 10\n",
      "11 12\n",
      "12 2\n",
      "12 11\n",
      "12 13\n",
      "13 1\n",
      "13 12\n",
      "13 14\n",
      "14 0\n",
      "14 13\n",
      "printing info:\n",
      "qubits:  15\n",
      "edges :  40\n",
      "{0: [0.000987195040255462, 0.02200000000000002, 7.724907597312889e-05, 1.9764837477388232e-05], 1: [0.0020615962165784207, 0.0675, 4.060782684653006e-05, 9.642094522494786e-05], 2: [0.007472444160717462, 0.02950000000000008, 4.493190887740298e-05, 9.525091346010214e-05], 3: [0.0007666415091074352, 0.05249999999999999, 7.864972664344837e-05, 5.591363519661963e-05], 4: [0.0037706991624312236, 0.019500000000000073, 5.855484653145938e-05, 2.8100909500855012e-05], 5: [0.005648014624650033, 0.06000000000000005, 1.889027712723862e-05, 3.326681115506176e-05], 6: [0.0034845005029349174, 0.03249999999999997, 7.777587658981836e-05, 8.208297220375773e-05], 7: [0.00264938534495629, 0.03049999999999997, 3.967660518814423e-05, 7.45172053593821e-05], 8: [0.0018602875167497146, 0.2889999999999999, 3.5691299612243416e-05, 6.179083484675874e-05], 9: [0.0027969462254865407, 0.03600000000000003, 3.6389214530520376e-05, 6.310287134125579e-05], 10: [0.004700129885763182, 0.031000000000000028, 4.508591379019957e-05, 3.6406019365972954e-05], 11: [0.0031525732071964185, 0.04400000000000004, 4.446176531718629e-05, 5.8491459165919255e-05], 12: [0.0011352639964726796, 0.04249999999999998, 0.00012008705543728816, 6.294395335226577e-05], 13: [0.0039052323699648728, 0.10199999999999998, 2.8972751607050215e-05, 5.9076475179567374e-05], 14: [0.004574384650433805, 0.04800000000000004, 3.702425673135473e-05, 3.807670395346203e-05]}\n",
      "[(0, 1, 0.0322321548761515), (0, 14, 0.04151896906577493), (1, 0, 0.0322321548761515), (1, 2, 0.02194931952219542), (1, 13, 0.08485635680437481), (2, 1, 0.02194931952219542), (2, 3, 0.03613712058233848), (2, 12, 0.040799608235851215), (3, 2, 0.03613712058233848), (3, 4, 0.014929223722658508), (3, 11, 0.032548450651080085), (4, 3, 0.014929223722658508), (4, 5, 0.029660289547729507), (4, 10, 0.025251658457124126), (5, 4, 0.029660289547729507), (5, 6, 0.048419995090457635), (5, 9, 0.03764254064101802), (6, 5, 0.048419995090457635), (6, 8, 0.029572892865055878), (7, 8, 0.03037226372592483), (8, 6, 0.029572892865055878), (8, 7, 0.03037226372592483), (8, 9, 0.029717429272822976), (9, 5, 0.03764254064101802), (9, 8, 0.029717429272822976), (9, 10, 0.03679543970772209), (10, 4, 0.025251658457124126), (10, 9, 0.03679543970772209), (10, 11, 0.032852841999066046), (11, 3, 0.032548450651080085), (11, 10, 0.032852841999066046), (11, 12, 0.02828904911321603), (12, 2, 0.040799608235851215), (12, 11, 0.02828904911321603), (12, 13, 0.030725171982695504), (13, 1, 0.08485635680437481), (13, 12, 0.030725171982695504), (13, 14, 0.05046161964246265), (14, 0, 0.04151896906577493), (14, 13, 0.05046161964246265)]\n"
     ]
    }
   ],
   "source": [
    "\n",
    "# backend_calib=Q_program.get_backend_calibration(backend=backend)\n",
    "# print(backend_calib)\n",
    "qubit_prop_map={}\n",
    "\n",
    "\n",
    "for q in range(num_qubits):\n",
    "\n",
    "    \n",
    "    single_gate_error=max(prop.gate_error('u2',q),prop.gate_error('u3',q))\n",
    "    readout_error=prop.readout_error(q)\n",
    "    qubit_prop_map[q]=[(single_gate_error)]\n",
    "    qubit_prop_map[q].append(readout_error)\n",
    "    qubit_prop_map[q].append(prop.t1(q))\n",
    "    qubit_prop_map[q].append(prop.t2(q))\n",
    "\n",
    "print(qubit_prop_map)\n",
    "\n",
    "\n",
    "qubit_adj_list=[]\n",
    "n_edges = 0\n",
    "for g in coupling_map:\n",
    "    q1,q2=g\n",
    "    print(q1,q2)\n",
    "    qubit_adj_list.append((q1,q2,prop.gate_error('cx', [q1,q2])))\n",
    "    n_edges +=1\n",
    "\n",
    "\n",
    "\n",
    "n_qubits= num_qubits\n",
    "\n",
    "print(\"printing info:\")\n",
    "print('qubits: ',num_qubits)\n",
    "print('edges : ',n_edges)\n",
    "print(qubit_prop_map)\n",
    "print(qubit_adj_list)\n",
    "\n",
    "# conf=open('config_'+str(backend_calib['last_update_date'][:10])+'_.txt','w')\n",
    "conf=open('config_m.txt','w')\n",
    "conf.write(str(n_qubits)+'\\n')\n",
    "conf.write(str(n_edges)+'\\n')\n",
    "for k in qubit_prop_map.keys():\n",
    "    line=str(k)+\" \"+str(qubit_prop_map[k][0])+\" \"+str(qubit_prop_map[k][1])+\" \"+\\\n",
    "         str(qubit_prop_map[k][2])+\" \"+str(qubit_prop_map[k][3])+'\\n'\n",
    "    conf.write(line)\n",
    "\n",
    "for mq in qubit_adj_list:\n",
    "    line=str(mq[0])+\" \"+str(mq[1])+\" \"+str(mq[2])+'\\n'\n",
    "    conf.write(line)\n",
    "\n",
    "conf.close()"
   ]
  },
  {
   "cell_type": "code",
   "execution_count": null,
   "metadata": {},
   "outputs": [],
   "source": []
  },
  {
   "cell_type": "code",
   "execution_count": null,
   "metadata": {},
   "outputs": [],
   "source": []
  },
  {
   "cell_type": "code",
   "execution_count": null,
   "metadata": {},
   "outputs": [],
   "source": []
  }
 ],
 "metadata": {
  "kernelspec": {
   "display_name": "Python 3",
   "language": "python",
   "name": "python3"
  },
  "language_info": {
   "codemirror_mode": {
    "name": "ipython",
    "version": 3
   },
   "file_extension": ".py",
   "mimetype": "text/x-python",
   "name": "python",
   "nbconvert_exporter": "python",
   "pygments_lexer": "ipython3",
   "version": "3.7.6"
  }
 },
 "nbformat": 4,
 "nbformat_minor": 4
}
